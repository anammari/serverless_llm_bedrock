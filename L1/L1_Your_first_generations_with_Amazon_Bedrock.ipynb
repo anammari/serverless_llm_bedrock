{
 "cells": [
  {
   "cell_type": "markdown",
   "id": "1f42b856-6cd2-4cdf-a1ba-e609123c0e0b",
   "metadata": {},
   "source": [
    "# Lesson 1 - Your first generations with Amazon Bedrock"
   ]
  },
  {
   "cell_type": "markdown",
   "id": "ad93ca27-aeef-47fe-8b91-dcbc82ed5824",
   "metadata": {},
   "source": [
    "Welcome to Lesson 1. \n",
    "\n",
    "You'll start with using Amazon Bedrock to prompt a model and customize how it generates its response.\n",
    "\n",
    "**Note:** To access the `requirements.txt` file, go to `File` and click on `Open`. Here, you will also find all helpers functions and datasets used in each lesson.\n",
    " \n",
    "I hope you enjoy this course!"
   ]
  },
  {
   "cell_type": "markdown",
   "id": "f7da4cea-119c-4c59-971e-852713490dc4",
   "metadata": {},
   "source": [
    "### Import all needed packages"
   ]
  },
  {
   "cell_type": "code",
   "execution_count": 1,
   "id": "5c74fc7b",
   "metadata": {},
   "outputs": [],
   "source": [
    "import boto3\n",
    "import json\n",
    "from botocore.exceptions import ClientError"
   ]
  },
  {
   "cell_type": "markdown",
   "id": "64361ba9-7b91-421e-a26c-d23f50f4c6dd",
   "metadata": {},
   "source": [
    "### Setup the Bedrock runtime"
   ]
  },
  {
   "cell_type": "code",
   "execution_count": 2,
   "id": "887b8bc3",
   "metadata": {},
   "outputs": [],
   "source": [
    "bedrock_runtime = boto3.client('bedrock-runtime', region_name='us-west-2') "
   ]
  },
  {
   "cell_type": "code",
   "execution_count": 3,
   "id": "5eaa97fc",
   "metadata": {},
   "outputs": [],
   "source": [
    "prompt = \"Write a one sentence summary of Las Vegas.\"\n"
   ]
  },
  {
   "cell_type": "code",
   "execution_count": 2,
   "id": "42e42b9b",
   "metadata": {},
   "outputs": [
    {
     "name": "stdout",
     "output_type": "stream",
     "text": [
      "\n",
      "[Full Response]\n",
      "{\n",
      "  \"ResponseMetadata\": {\n",
      "    \"RequestId\": \"9c9ece6c-9530-448f-8a81-9e98ea498dfd\",\n",
      "    \"HTTPStatusCode\": 200,\n",
      "    \"HTTPHeaders\": {\n",
      "      \"date\": \"Wed, 11 Dec 2024 22:44:50 GMT\",\n",
      "      \"content-type\": \"application/json\",\n",
      "      \"content-length\": \"472\",\n",
      "      \"connection\": \"keep-alive\",\n",
      "      \"x-amzn-requestid\": \"9c9ece6c-9530-448f-8a81-9e98ea498dfd\"\n",
      "    },\n",
      "    \"RetryAttempts\": 0\n",
      "  },\n",
      "  \"output\": {\n",
      "    \"message\": {\n",
      "      \"role\": \"assistant\",\n",
      "      \"content\": [\n",
      "        {\n",
      "          \"text\": \"In twilight's soft and gentle glow,\\nA whisper of a breeze begins to flow.\\nStars emerge like diamonds bright,\\nAs night unveils its velvet sight.\\n\\nA world asleep in moonlit gleam,\\nDreams weave tales in quiet scheme.\\nThe night's embrace, a soothing song,\\nIn silence, where we all belong.\"\n",
      "        }\n",
      "      ]\n",
      "    }\n",
      "  },\n",
      "  \"stopReason\": \"end_turn\",\n",
      "  \"usage\": {\n",
      "    \"inputTokens\": 4,\n",
      "    \"outputTokens\": 65,\n",
      "    \"totalTokens\": 69\n",
      "  },\n",
      "  \"metrics\": {\n",
      "    \"latencyMs\": 743\n",
      "  }\n",
      "}\n",
      "\n",
      "[Response Content Text]\n",
      "In twilight's soft and gentle glow,\n",
      "A whisper of a breeze begins to flow.\n",
      "Stars emerge like diamonds bright,\n",
      "As night unveils its velvet sight.\n",
      "\n",
      "A world asleep in moonlit gleam,\n",
      "Dreams weave tales in quiet scheme.\n",
      "The night's embrace, a soothing song,\n",
      "In silence, where we all belong.\n"
     ]
    }
   ],
   "source": [
    "client = boto3.client(service_name=\"bedrock-runtime\")\n",
    "\n",
    "messages = [\n",
    "    {\"role\": \"user\", \"content\": [{\"text\": \"Write a short poem\"}]},\n",
    "]\n",
    "\n",
    "model_response = client.converse(\n",
    "    modelId=\"us.amazon.nova-micro-v1:0\", \n",
    "    messages=messages\n",
    ")\n",
    "\n",
    "print(\"\\n[Full Response]\")\n",
    "print(json.dumps(model_response, indent=2))\n",
    "\n",
    "print(\"\\n[Response Content Text]\")\n",
    "print(model_response[\"output\"][\"message\"][\"content\"][0][\"text\"])"
   ]
  },
  {
   "cell_type": "code",
   "execution_count": 4,
   "id": "6ab4dfd3",
   "metadata": {},
   "outputs": [
    {
     "name": "stdout",
     "output_type": "stream",
     "text": [
      "In twilight's soft and gentle glow,\n",
      "A whisper of a breeze begins to flow.\n",
      "Stars emerge like diamonds bright,\n",
      "As night unveils its velvet sight.\n",
      "\n",
      "A world asleep in moonlit gleam,\n",
      "Dreams weave tales in quiet scheme.\n",
      "The night's embrace, a soothing song,\n",
      "In silence, where we all belong.\n"
     ]
    }
   ],
   "source": [
    "print(model_response[\"output\"][\"message\"][\"content\"][0][\"text\"])"
   ]
  }
 ],
 "metadata": {
  "kernelspec": {
   "display_name": "Python 3",
   "language": "python",
   "name": "python3"
  },
  "language_info": {
   "codemirror_mode": {
    "name": "ipython",
    "version": 3
   },
   "file_extension": ".py",
   "mimetype": "text/x-python",
   "name": "python",
   "nbconvert_exporter": "python",
   "pygments_lexer": "ipython3",
   "version": "3.12.1"
  }
 },
 "nbformat": 4,
 "nbformat_minor": 5
}
